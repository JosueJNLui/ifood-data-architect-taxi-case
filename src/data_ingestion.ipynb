{
 "cells": [
  {
   "cell_type": "code",
   "execution_count": 0,
   "metadata": {
    "application/vnd.databricks.v1+cell": {
     "cellMetadata": {
      "byteLimit": 2048000,
      "rowLimit": 10000
     },
     "inputWidgets": {},
     "nuid": "dfa68629-c1fe-4476-aba3-603be46dcfa7",
     "showTitle": false,
     "tableResultSettingsMap": {},
     "title": ""
    }
   },
   "outputs": [],
   "source": [
    "CREATE CATALOG IF NOT EXISTS main;\n",
    "\n",
    "CREATE SCHEMA IF NOT EXISTS main.bronze;"
   ]
  },
  {
   "cell_type": "code",
   "execution_count": 0,
   "metadata": {
    "application/vnd.databricks.v1+cell": {
     "cellMetadata": {
      "byteLimit": 2048000,
      "rowLimit": 10000
     },
     "inputWidgets": {},
     "nuid": "4e6bb146-8003-45a6-9913-5db4a64a2560",
     "showTitle": false,
     "tableResultSettingsMap": {},
     "title": ""
    }
   },
   "outputs": [],
   "source": [
    "%python\n",
    "\n",
    "aws_account_id = dbutils.secrets.get('db-scope', 'aws_account_id')\n",
    "env = 'dev'\n",
    "aws_region = 'us-east-2'\n",
    "\n",
    "s3_path = f\"s3://ifood-architect-taxi-case-{env}-{aws_region}-{aws_account_id}\""
   ]
  },
  {
   "cell_type": "code",
   "execution_count": 0,
   "metadata": {
    "application/vnd.databricks.v1+cell": {
     "cellMetadata": {
      "byteLimit": 2048000,
      "rowLimit": 10000
     },
     "inputWidgets": {},
     "nuid": "7775686f-ab64-4b4d-8dae-eeb289c2c444",
     "showTitle": false,
     "tableResultSettingsMap": {},
     "title": ""
    }
   },
   "outputs": [],
   "source": [
    "%python\n",
    "\n",
    "\n",
    "def autoloader_config(s3_path: str, key: str, schema_hint: str):\n",
    "\n",
    "  source_path = f\"{s3_path}/{key}\"\n",
    "  raw_path = f\"{source_path}/raw\"\n",
    "  table_name = f\"main.bronze.{key}\"\n",
    "\n",
    "  checkpoint_path = f\"{source_path}/_checkpoint\"\n",
    "  table_path = f\"{source_path}/delta_table_metadata\"\n",
    "\n",
    "  df = (spark.readStream\n",
    "        .format(\"cloudFiles\")\n",
    "        .option(\"cloudFiles.format\", \"parquet\")\n",
    "        .option(\"cloudFiles.schemaHints\", schema_hint)\n",
    "        .option(\"cloudFiles.schemaLocation\", checkpoint_path)\n",
    "        .load(raw_path)\n",
    "  )\n",
    "\n",
    "  (df.writeStream\n",
    "  .format(\"delta\")\n",
    "  .outputMode(\"append\")\n",
    "  .option(\"checkpointLocation\", checkpoint_path)\n",
    "  .option(\"path\", table_path)\n",
    "  .trigger(availableNow=True)\n",
    "  .toTable(table_name)\n",
    "  )"
   ]
  },
  {
   "cell_type": "code",
   "execution_count": 0,
   "metadata": {
    "application/vnd.databricks.v1+cell": {
     "cellMetadata": {},
     "inputWidgets": {},
     "nuid": "06dcb5f1-b011-46b6-a911-d9dd24909b3a",
     "showTitle": false,
     "tableResultSettingsMap": {},
     "title": ""
    }
   },
   "outputs": [],
   "source": [
    "%python\n",
    "\n",
    "## yellow tripdata ingestion\n",
    "\n",
    "yellow_schema_hint = \"\"\"\n",
    "  VendorID INT,\n",
    "  tpep_pickup_datetime TIMESTAMP,\n",
    "  tpep_dropoff_datetime TIMESTAMP,\n",
    "  passenger_count BIGINT,\n",
    "  trip_distance DOUBLE,\n",
    "  RatecodeID BIGINT,\n",
    "  store_and_fwd_flag STRING,\n",
    "  PULocationID INT,\n",
    "  DOLocationID INT,\n",
    "  payment_type BIGINT,\n",
    "  fare_amount DOUBLE,\n",
    "  extra DOUBLE,\n",
    "  mta_tax DOUBLE,\n",
    "  tip_amount DOUBLE,\n",
    "  tolls_amount DOUBLE,\n",
    "  improvement_surcharge DOUBLE,\n",
    "  total_amount DOUBLE,\n",
    "  congestion_surcharge DOUBLE,\n",
    "  Airport_fee DOUBLE\n",
    "\"\"\"\n",
    "\n",
    "autoloader_config(s3_path, \"yellow_tripdata\", yellow_schema_hint)"
   ]
  },
  {
   "cell_type": "code",
   "execution_count": 0,
   "metadata": {
    "application/vnd.databricks.v1+cell": {
     "cellMetadata": {
      "byteLimit": 2048000,
      "rowLimit": 10000
     },
     "inputWidgets": {},
     "nuid": "c7de89e3-92f1-4409-99c0-edbf1cbdde78",
     "showTitle": false,
     "tableResultSettingsMap": {},
     "title": ""
    }
   },
   "outputs": [],
   "source": [
    "%python\n",
    "\n",
    "## green tripdata ingestion \n",
    "\n",
    "green_schema_hint = \"\"\"\n",
    "    VendorID INT,\n",
    "    lpep_pickup_datetime TIMESTAMP,\n",
    "    lpep_dropoff_datetime TIMESTAMP,\n",
    "    store_and_fwd_flag STRING,\n",
    "    RatecodeID BIGINT,\n",
    "    PULocationID INT,\n",
    "    DOLocationID INT,\n",
    "    passenger_count BIGINT,\n",
    "    trip_distance DOUBLE,\n",
    "    fare_amount DOUBLE,\n",
    "    extra DOUBLE,\n",
    "    mta_tax DOUBLE,\n",
    "    tip_amount DOUBLE,\n",
    "    tolls_amount DOUBLE,\n",
    "    ehail_fee DOUBLE,\n",
    "    improvement_surcharge DOUBLE,\n",
    "    total_amount DOUBLE,\n",
    "    payment_type BIGINT,\n",
    "    trip_type BIGINT,\n",
    "    congestion_surcharge DOUBLE\n",
    "\"\"\"\n",
    "\n",
    "autoloader_config(s3_path, \"green_tripdata\", green_schema_hint)"
   ]
  },
  {
   "cell_type": "code",
   "execution_count": 0,
   "metadata": {
    "application/vnd.databricks.v1+cell": {
     "cellMetadata": {
      "byteLimit": 2048000,
      "rowLimit": 10000
     },
     "inputWidgets": {},
     "nuid": "bfdfcd49-2fea-4dec-af13-71f4e13dbedf",
     "showTitle": false,
     "tableResultSettingsMap": {},
     "title": ""
    }
   },
   "outputs": [],
   "source": [
    "%python\n",
    "\n",
    "## fhv tripdata ingestion \n",
    "\n",
    "fhv_schema_hint = \"\"\"\n",
    "    dispatching_base_num STRING,\n",
    "    pickup_datetime TIMESTAMP,\n",
    "    dropOff_datetime TIMESTAMP,\n",
    "    PUlocationID DOUBLE,\n",
    "    DOlocationID DOUBLE,\n",
    "    SR_Flag INT,\n",
    "    Affiliated_base_number STRING\n",
    "\"\"\"\n",
    "\n",
    "autoloader_config(s3_path, \"fhv_tripdata\", fhv_schema_hint)"
   ]
  },
  {
   "cell_type": "code",
   "execution_count": 0,
   "metadata": {
    "application/vnd.databricks.v1+cell": {
     "cellMetadata": {
      "byteLimit": 2048000,
      "rowLimit": 10000
     },
     "inputWidgets": {},
     "nuid": "99c9baf2-84e4-4952-8406-d281d8f7f30c",
     "showTitle": false,
     "tableResultSettingsMap": {},
     "title": ""
    }
   },
   "outputs": [],
   "source": [
    "%python\n",
    "\n",
    "## fhvhv tripdata ingestion \n",
    "\n",
    "fhvhv_schema_hint = \"\"\"\n",
    "    hvfhs_license_num STRING,\n",
    "    dispatching_base_num STRING,\n",
    "    originating_base_num STRING,\n",
    "    request_datetime TIMESTAMP,\n",
    "    on_scene_datetime TIMESTAMP,\n",
    "    pickup_datetime TIMESTAMP,\n",
    "    dropoff_datetime TIMESTAMP,\n",
    "    PULocationID BIGINT,\n",
    "    DOLocationID BIGINT,\n",
    "    trip_miles DOUBLE,\n",
    "    trip_time BIGINT,\n",
    "    base_passenger_fare DOUBLE,\n",
    "    tolls DOUBLE,\n",
    "    bcf DOUBLE,\n",
    "    sales_tax DOUBLE,\n",
    "    congestion_surcharge DOUBLE,\n",
    "    airport_fee DOUBLE,\n",
    "    tips DOUBLE,\n",
    "    driver_pay DOUBLE,\n",
    "    shared_request_flag STRING,\n",
    "    shared_match_flag STRING,\n",
    "    access_a_ride_flag STRING,\n",
    "    wav_request_flag STRING,\n",
    "    wav_match_flag STRING\n",
    "\"\"\"\n",
    "\n",
    "autoloader_config(s3_path, \"fhvhv_tripdata\", fhvhv_schema_hint)"
   ]
  }
 ],
 "metadata": {
  "application/vnd.databricks.v1+notebook": {
   "computePreferences": {
    "hardware": {
     "accelerator": null,
     "gpuPoolId": null,
     "memory": null
    }
   },
   "dashboards": [],
   "environmentMetadata": {
    "base_environment": "",
    "environment_version": "3"
   },
   "inputWidgetPreferences": null,
   "language": "sql",
   "notebookMetadata": {
    "mostRecentlyExecutedCommandWithImplicitDF": {
     "commandId": -1,
     "dataframes": [
      "_sqldf"
     ]
    },
    "pythonIndentUnit": 4
   },
   "notebookName": "data_ingestion",
   "widgets": {}
  },
  "language_info": {
   "name": "sql"
  }
 },
 "nbformat": 4,
 "nbformat_minor": 0
}
