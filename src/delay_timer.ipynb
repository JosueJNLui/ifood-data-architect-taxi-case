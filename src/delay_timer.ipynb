{
 "cells": [
  {
   "cell_type": "code",
   "execution_count": null,
   "id": "f3488740",
   "metadata": {},
   "outputs": [],
   "source": [
    "import time\n",
    "\n",
    "dbutils.widgets.text(\"delay_seconds\", \"120\")\n",
    "\n",
    "delay_seconds = dbutils.widgets.get(\"delay_seconds\")\n",
    "\n",
    "print(f\"Pausando execução por {delay_seconds} segundos...\")\n",
    "time.sleep(int(delay_seconds))\n",
    "print(\"Delay completo. Continuando pipeline.\")"
   ]
  }
 ],
 "metadata": {
  "language_info": {
   "name": "python"
  }
 },
 "nbformat": 4,
 "nbformat_minor": 5
}
