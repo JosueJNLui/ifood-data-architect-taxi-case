{
 "cells": [
  {
   "cell_type": "code",
   "execution_count": 0,
   "metadata": {
    "application/vnd.databricks.v1+cell": {
     "cellMetadata": {
      "byteLimit": 2048000,
      "rowLimit": 10000
     },
     "inputWidgets": {},
     "nuid": "a80e4a48-0219-40cc-b948-95eabb571620",
     "showTitle": false,
     "tableResultSettingsMap": {},
     "title": ""
    }
   },
   "outputs": [],
   "source": [
    "CREATE SCHEMA IF NOT EXISTS silver;"
   ]
  },
  {
   "cell_type": "code",
   "execution_count": 0,
   "metadata": {
    "application/vnd.databricks.v1+cell": {
     "cellMetadata": {
      "byteLimit": 2048000,
      "rowLimit": 10000
     },
     "inputWidgets": {},
     "nuid": "dc21b8c4-5eff-41a3-b89b-f222b276c547",
     "showTitle": false,
     "tableResultSettingsMap": {},
     "title": ""
    }
   },
   "outputs": [],
   "source": [
    "SHOW TABLES FROM main.bronze;"
   ]
  },
  {
   "cell_type": "code",
   "execution_count": 0,
   "metadata": {
    "application/vnd.databricks.v1+cell": {
     "cellMetadata": {
      "byteLimit": 2048000,
      "rowLimit": 10000
     },
     "inputWidgets": {},
     "nuid": "426c2b01-db90-404f-bd13-1b4d071fc542",
     "showTitle": false,
     "tableResultSettingsMap": {},
     "title": ""
    }
   },
   "outputs": [],
   "source": [
    "%python\n",
    "from pyspark.sql.functions import to_date, col, concat, date_format, lit, now, max\n",
    "from pyspark.sql.dataframe import DataFrame\n",
    "\n",
    "\n",
    "def load_into_silver(table_name: str, pickup_datetime: str, dropoff_datetime: str):\n",
    "\n",
    "    df = spark.table(f\"main.bronze.{table_name}\") \\\n",
    "        .select(\n",
    "            \"VendorID\"\n",
    "            , \"passenger_count\"\n",
    "            , \"total_amount\"\n",
    "            , col(pickup_datetime)\n",
    "            , col(dropoff_datetime)\n",
    "            , to_date(col(pickup_datetime)).alias(\"date_pickup\")\n",
    "            , concat(date_format(col(pickup_datetime), 'yyyy-MM'), lit('-01')).alias(\"month_partition\")\n",
    "            , now().alias(\"updated_at\")\n",
    "        )\n",
    "    \n",
    "    if not spark.catalog.tableExists(f\"main.silver.{table_name}\"):\n",
    "        df.write.mode(\"overwrite\").partitionBy(\"month_partition\").saveAsTable(f\"main.silver.{table_name}\")\n",
    "    \n",
    "    else:\n",
    "        last_month = spark.table(f\"main.silver.{table_name}\").agg(max(col(\"month_partition\"))).collect()[0][0]\n",
    "        (df.filter(\n",
    "            col(\"month_partition\") >= last_month\n",
    "            )\n",
    "        ).write.mode(\"overwrite\").partitionBy(\"month_partition\").option(\"replaceWhere\", f\"month_partition >= '{last_month}'\").saveAsTable(f\"main.silver.{table_name}\")\n"
   ]
  },
  {
   "cell_type": "code",
   "execution_count": 0,
   "metadata": {
    "application/vnd.databricks.v1+cell": {
     "cellMetadata": {
      "byteLimit": 2048000,
      "rowLimit": 10000
     },
     "inputWidgets": {},
     "nuid": "baf5b21c-3225-4bf9-897b-d4e471f8a994",
     "showTitle": false,
     "tableResultSettingsMap": {},
     "title": ""
    }
   },
   "outputs": [],
   "source": [
    "%python\n",
    "\n",
    "load_into_silver(\"yellow_tripdata\", \"tpep_pickup_datetime\", \"tpep_dropoff_datetime\")"
   ]
  },
  {
   "cell_type": "code",
   "execution_count": 0,
   "metadata": {
    "application/vnd.databricks.v1+cell": {
     "cellMetadata": {
      "byteLimit": 2048000,
      "rowLimit": 10000
     },
     "inputWidgets": {},
     "nuid": "59871ce1-fecb-4acf-b1cf-6c8709143cea",
     "showTitle": false,
     "tableResultSettingsMap": {
      "0": {
       "dataGridStateBlob": "{\"version\":1,\"tableState\":{\"columnPinning\":{\"left\":[\"#row_number#\"],\"right\":[]},\"columnSizing\":{},\"columnVisibility\":{}},\"settings\":{\"columns\":{}},\"syncTimestamp\":1758761758015}",
       "filterBlob": null,
       "queryPlanFiltersBlob": null,
       "tableResultIndex": 0
      }
     },
     "title": ""
    }
   },
   "outputs": [],
   "source": [
    "%python\n",
    "\n",
    "load_into_silver(\"green_tripdata\", \"lpep_pickup_datetime\", \"lpep_dropoff_datetime\")"
   ]
  }
 ],
 "metadata": {
  "application/vnd.databricks.v1+notebook": {
   "computePreferences": {
    "hardware": {
     "accelerator": null,
     "gpuPoolId": null,
     "memory": null
    }
   },
   "dashboards": [],
   "environmentMetadata": {
    "base_environment": "",
    "environment_version": "3"
   },
   "inputWidgetPreferences": null,
   "language": "sql",
   "notebookMetadata": {
    "pythonIndentUnit": 4
   },
   "notebookName": "load_data_into_silver_layer",
   "widgets": {}
  },
  "language_info": {
   "name": "sql"
  }
 },
 "nbformat": 4,
 "nbformat_minor": 0
}
