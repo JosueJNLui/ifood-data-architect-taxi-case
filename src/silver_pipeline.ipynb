{
 "cells": [
  {
   "cell_type": "code",
   "execution_count": null,
   "id": "d31649d4",
   "metadata": {
    "vscode": {
     "languageId": "sql"
    }
   },
   "outputs": [],
   "source": [
    "CREATE STREAMING LIVE VIEW yellow_tripdata_view\n",
    "\n",
    "SELECT\n",
    "  ride_uuid\n",
    "  , 'yellow' taxi_type\n",
    "  , vendorid::int\n",
    "  , COALESCE(passenger_count, '1')::double passenger_count\n",
    "  , total_amount::double\n",
    "  , tpep_pickup_datetime::timestamp pickup_datetime\n",
    "  , tpep_dropoff_datetime::timestamp dropoff_datetime\n",
    "  , date_partition\n",
    "FROM\n",
    "  STREAM(main.bronze.yellow_tripdata)\n",
    ";"
   ]
  },
  {
   "cell_type": "code",
   "execution_count": null,
   "id": "8a3f78e0",
   "metadata": {
    "vscode": {
     "languageId": "sql"
    }
   },
   "outputs": [],
   "source": [
    "CREATE STREAMING LIVE VIEW green_tripdata_view\n",
    "\n",
    "SELECT\n",
    "  ride_uuid\n",
    "  , 'green' taxi_type\n",
    "  , vendorid::int\n",
    "  , COALESCE(passenger_count, '1')::double passenger_count\n",
    "  , total_amount::double\n",
    "  , lpep_pickup_datetime::timestamp pickup_datetime\n",
    "  , lpep_dropoff_datetime::timestamp dropoff_datetime\n",
    "  , date_partition\n",
    "FROM\n",
    "  STREAM(main.bronze.green_tripdata)\n",
    ";"
   ]
  },
  {
   "cell_type": "code",
   "execution_count": null,
   "id": "e99e458d",
   "metadata": {
    "vscode": {
     "languageId": "sql"
    }
   },
   "outputs": [],
   "source": [
    "CREATE STREAMING LIVE TABLE nyc_tripdata_view\n",
    "\n",
    "SELECT\n",
    "  *\n",
    "FROM\n",
    "  STREAM(LIVE.yellow_tripdata_view)\n",
    "\n",
    "UNION ALL\n",
    "\n",
    "SELECT\n",
    "  *\n",
    "FROM\n",
    "  STREAM(LIVE.green_tripdata_view)\n",
    ";"
   ]
  },
  {
   "cell_type": "code",
   "execution_count": null,
   "id": "43d3785a",
   "metadata": {
    "vscode": {
     "languageId": "sql"
    }
   },
   "outputs": [],
   "source": [
    "CREATE STREAMING LIVE TABLE nyc_tripdata_silver\n",
    "PARTITIONED BY (date_partition)\n",
    "TBLPROPERTIES(\"Quality\" = \"Silver\")\n",
    "COMMENT 'Green and Yellow Taxi Data From NYC open data.'\n",
    "\n",
    "SELECT\n",
    "  *\n",
    "  , CURRENT_TIMESTAMP() updated_at_utc\n",
    "FROM\n",
    "  STREAM(LIVE.nyc_tripdata_view)\n",
    "WHERE TRUE \n",
    "  AND total_amount >= 0\n",
    ";"
   ]
  }
 ],
 "metadata": {
  "language_info": {
   "name": "python"
  }
 },
 "nbformat": 4,
 "nbformat_minor": 5
}
