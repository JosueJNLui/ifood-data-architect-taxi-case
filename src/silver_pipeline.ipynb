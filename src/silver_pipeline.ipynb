{
 "cells": [
  {
   "cell_type": "code",
   "execution_count": 0,
   "metadata": {
    "application/vnd.databricks.v1+cell": {
     "cellMetadata": {},
     "inputWidgets": {},
     "nuid": "56b9a6ec-fd9e-4ada-aab6-e879d0cbedc5",
     "showTitle": false,
     "tableResultSettingsMap": {},
     "title": ""
    },
    "vscode": {
     "languageId": "sql"
    }
   },
   "outputs": [],
   "source": [
    "CREATE STREAMING LIVE VIEW yellow_tripdata_view\n",
    "\n",
    "SELECT\n",
    "  ride_uuid\n",
    "  , 'yellow' taxi_type\n",
    "  , vendorid::int\n",
    "  , COALESCE(passenger_count, '1')::double passenger_count\n",
    "  , total_amount::double\n",
    "  , tpep_pickup_datetime::timestamp pickup_datetime\n",
    "  , tpep_dropoff_datetime::timestamp dropoff_datetime\n",
    "  , date_partition\n",
    "FROM\n",
    "  STREAM(main.bronze.yellow_tripdata)\n",
    ";"
   ]
  },
  {
   "cell_type": "code",
   "execution_count": 0,
   "metadata": {
    "application/vnd.databricks.v1+cell": {
     "cellMetadata": {},
     "inputWidgets": {},
     "nuid": "8fac2fbd-c196-40f6-9853-763206f514e0",
     "showTitle": false,
     "tableResultSettingsMap": {},
     "title": ""
    },
    "vscode": {
     "languageId": "sql"
    }
   },
   "outputs": [],
   "source": [
    "CREATE STREAMING LIVE VIEW green_tripdata_view\n",
    "\n",
    "SELECT\n",
    "  ride_uuid\n",
    "  , 'green' taxi_type\n",
    "  , vendorid::int\n",
    "  , COALESCE(passenger_count, '1')::double passenger_count\n",
    "  , total_amount::double\n",
    "  , lpep_pickup_datetime::timestamp pickup_datetime\n",
    "  , lpep_dropoff_datetime::timestamp dropoff_datetime\n",
    "  , date_partition\n",
    "FROM\n",
    "  STREAM(main.bronze.green_tripdata)\n",
    ";"
   ]
  },
  {
   "cell_type": "code",
   "execution_count": 0,
   "metadata": {
    "application/vnd.databricks.v1+cell": {
     "cellMetadata": {},
     "inputWidgets": {},
     "nuid": "4cd8fe5b-a86f-44af-9cab-70e1827d5c13",
     "showTitle": false,
     "tableResultSettingsMap": {},
     "title": ""
    },
    "vscode": {
     "languageId": "sql"
    }
   },
   "outputs": [],
   "source": [
    "CREATE STREAMING LIVE TABLE nyc_tripdata_view\n",
    "\n",
    "SELECT\n",
    "  *\n",
    "FROM\n",
    "  STREAM(LIVE.yellow_tripdata_view)\n",
    "\n",
    "UNION ALL\n",
    "\n",
    "SELECT\n",
    "  *\n",
    "FROM\n",
    "  STREAM(LIVE.green_tripdata_view)\n",
    ";"
   ]
  },
  {
   "cell_type": "code",
   "execution_count": 0,
   "metadata": {
    "application/vnd.databricks.v1+cell": {
     "cellMetadata": {},
     "inputWidgets": {},
     "nuid": "8c255d4b-322d-4268-a31d-efd27127ad26",
     "showTitle": false,
     "tableResultSettingsMap": {},
     "title": ""
    },
    "vscode": {
     "languageId": "sql"
    }
   },
   "outputs": [],
   "source": [
    "CREATE STREAMING LIVE TABLE nyc_tripdata_silver\n",
    "PARTITIONED BY (date_partition)\n",
    "TBLPROPERTIES(\"Quality\" = \"Silver\")\n",
    "COMMENT 'Green and Yellow Taxi Data From NYC open data.'\n",
    "\n",
    "SELECT\n",
    "  *\n",
    "  , CURRENT_TIMESTAMP() updated_at_utc\n",
    "FROM\n",
    "  STREAM(LIVE.nyc_tripdata_view)\n",
    "WHERE TRUE \n",
    "  AND total_amount >= 0\n",
    ";"
   ]
  }
 ],
 "metadata": {
  "application/vnd.databricks.v1+notebook": {
   "computePreferences": null,
   "dashboards": [],
   "environmentMetadata": null,
   "inputWidgetPreferences": null,
   "language": "sql",
   "notebookMetadata": {
    "pythonIndentUnit": 4
   },
   "notebookName": "silver_pipeline",
   "widgets": {}
  },
  "language_info": {
   "name": "sql"
  }
 },
 "nbformat": 4,
 "nbformat_minor": 0
}
