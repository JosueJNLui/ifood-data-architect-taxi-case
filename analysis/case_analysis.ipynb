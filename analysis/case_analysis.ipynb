{
 "cells": [
  {
   "cell_type": "markdown",
   "metadata": {
    "application/vnd.databricks.v1+cell": {
     "cellMetadata": {},
     "inputWidgets": {},
     "nuid": "2f79a889-35e0-4107-9df8-74c24672998a",
     "showTitle": false,
     "tableResultSettingsMap": {},
     "title": ""
    }
   },
   "source": [
    "1. Qual a média de valor total (total\\_amount) recebido em um mês considerando todos os yellow táxis da frota?"
   ]
  },
  {
   "cell_type": "code",
   "execution_count": 0,
   "metadata": {
    "application/vnd.databricks.v1+cell": {
     "cellMetadata": {
      "byteLimit": 2048000,
      "rowLimit": 10000
     },
     "inputWidgets": {},
     "nuid": "0c921a1e-dc0c-4dbe-8ca5-9bead147abe7",
     "showTitle": false,
     "tableResultSettingsMap": {
      "0": {
       "dataGridStateBlob": "{\"version\":1,\"tableState\":{\"columnPinning\":{\"left\":[\"#row_number#\"],\"right\":[]},\"columnSizing\":{\"month_partition\":160},\"columnVisibility\":{}},\"settings\":{\"columns\":{}},\"syncTimestamp\":1758762596652}",
       "filterBlob": null,
       "queryPlanFiltersBlob": null,
       "tableResultIndex": 0
      }
     },
     "title": ""
    }
   },
   "outputs": [],
   "source": [
    "SELECT\n",
    "  AVG(monthly_sum) avg_monthly\n",
    "FROM\n",
    "(\n",
    "  SELECT\n",
    "  month_partition\n",
    "  , SUM(total_amount) monthly_sum\n",
    "  FROM \n",
    "    main.silver.yellow_tripdata\n",
    "  WHERE TRUE \n",
    "    AND month_partition BETWEEN '2023-01-01' AND '2023-05-01' --Critério: Baseado no mês em que houve o 'pickup' do passageiro \n",
    "  GROUP BY ALL\n",
    ")\n",
    ";"
   ]
  },
  {
   "cell_type": "markdown",
   "metadata": {
    "application/vnd.databricks.v1+cell": {
     "cellMetadata": {},
     "inputWidgets": {},
     "nuid": "b2222e01-55af-4a9a-b28a-77db8752c83d",
     "showTitle": false,
     "tableResultSettingsMap": {},
     "title": ""
    }
   },
   "source": [
    "2. Qual a média de passageiros (passenger\\_count) por cada hora do dia que pegaram táxi no mês de maio considerando todos os táxis da frota?"
   ]
  },
  {
   "cell_type": "code",
   "execution_count": 0,
   "metadata": {
    "application/vnd.databricks.v1+cell": {
     "cellMetadata": {
      "byteLimit": 2048000,
      "rowLimit": 10000
     },
     "inputWidgets": {},
     "nuid": "ab0697ab-0a85-40b4-a55a-25e00b0f493b",
     "showTitle": false,
     "tableResultSettingsMap": {},
     "title": ""
    }
   },
   "outputs": [],
   "source": [
    "CREATE OR REPLACE TEMPORARY VIEW yellow_and_green_data AS \n",
    "\n",
    "SELECT \n",
    "  -- HOUR(tpep_pickup_datetime) hour\n",
    "  DATE_FORMAT(tpep_pickup_datetime, 'HH:00') hour\n",
    "  , passenger_count\n",
    "FROM \n",
    "  main.silver.yellow_tripdata\n",
    "WHERE TRUE \n",
    "  AND month_partition = '2023-05-01' --Critério: Baseado no mês em que houve o 'pickup' do passageiro\n",
    "\n",
    "UNION ALL\n",
    "\n",
    "SELECT \n",
    "  -- HOUR(lpep_pickup_datetime) hour\n",
    "  DATE_FORMAT(lpep_pickup_datetime, 'HH:00') hour\n",
    "  , passenger_count\n",
    "FROM \n",
    "  main.silver.green_tripdata\n",
    "WHERE TRUE \n",
    "  AND month_partition = '2023-05-01' --Critério: Baseado no mês em que houve o 'pickup' do passageiro\n",
    ";"
   ]
  },
  {
   "cell_type": "code",
   "execution_count": 0,
   "metadata": {
    "application/vnd.databricks.v1+cell": {
     "cellMetadata": {
      "byteLimit": 2048000,
      "rowLimit": 10000
     },
     "inputWidgets": {},
     "nuid": "811b8e7d-5a98-4f73-a5ef-2b60fbe4ea0f",
     "showTitle": false,
     "tableResultSettingsMap": {},
     "title": ""
    }
   },
   "outputs": [],
   "source": [
    "SELECT\n",
    "  hour\n",
    "  , AVG(passenger_count) average_passenger\n",
    "FROM \n",
    "  yellow_and_green_data\n",
    "GROUP BY 1\n",
    "ORDER BY 1 ASC"
   ]
  }
 ],
 "metadata": {
  "application/vnd.databricks.v1+notebook": {
   "computePreferences": null,
   "dashboards": [],
   "environmentMetadata": {
    "base_environment": "",
    "environment_version": "3"
   },
   "inputWidgetPreferences": null,
   "language": "sql",
   "notebookMetadata": {
    "pythonIndentUnit": 4
   },
   "notebookName": "case_analysis",
   "widgets": {}
  },
  "language_info": {
   "name": "sql"
  }
 },
 "nbformat": 4,
 "nbformat_minor": 0
}
